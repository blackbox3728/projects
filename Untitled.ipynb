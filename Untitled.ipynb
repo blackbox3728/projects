{
 "cells": [
  {
   "cell_type": "code",
   "execution_count": 4,
   "id": "c2a7b779",
   "metadata": {},
   "outputs": [],
   "source": [
    "import pandas as pd"
   ]
  },
  {
   "cell_type": "code",
   "execution_count": 5,
   "id": "68362350",
   "metadata": {},
   "outputs": [],
   "source": [
    "movies=pd.read_csv(r\"movies.csv\")"
   ]
  },
  {
   "cell_type": "code",
   "execution_count": 6,
   "id": "358c5fa0",
   "metadata": {},
   "outputs": [],
   "source": [
    "links=pd.read_csv(r\"links.csv\")"
   ]
  },
  {
   "cell_type": "code",
   "execution_count": 7,
   "id": "0d2eadaa",
   "metadata": {},
   "outputs": [],
   "source": [
    "ratings=pd.read_csv(r\"ratings.csv\")"
   ]
  },
  {
   "cell_type": "code",
   "execution_count": 8,
   "id": "c36c7253",
   "metadata": {},
   "outputs": [],
   "source": [
    "tags=pd.read_csv(r\"tags.csv\")"
   ]
  },
  {
   "cell_type": "code",
   "execution_count": 9,
   "id": "f12e06ea",
   "metadata": {},
   "outputs": [
    {
     "name": "stdout",
     "output_type": "stream",
     "text": [
      "<class 'pandas.core.frame.DataFrame'>\n",
      "RangeIndex: 9742 entries, 0 to 9741\n",
      "Data columns (total 3 columns):\n",
      " #   Column   Non-Null Count  Dtype \n",
      "---  ------   --------------  ----- \n",
      " 0   movieId  9742 non-null   int64 \n",
      " 1   title    9742 non-null   object\n",
      " 2   genres   9742 non-null   object\n",
      "dtypes: int64(1), object(2)\n",
      "memory usage: 228.5+ KB\n"
     ]
    }
   ],
   "source": [
    "movies.info()"
   ]
  },
  {
   "cell_type": "code",
   "execution_count": 10,
   "id": "0733f64a",
   "metadata": {},
   "outputs": [
    {
     "name": "stdout",
     "output_type": "stream",
     "text": [
      "<class 'pandas.core.frame.DataFrame'>\n",
      "RangeIndex: 9742 entries, 0 to 9741\n",
      "Data columns (total 3 columns):\n",
      " #   Column   Non-Null Count  Dtype  \n",
      "---  ------   --------------  -----  \n",
      " 0   movieId  9742 non-null   int64  \n",
      " 1   imdbId   9742 non-null   int64  \n",
      " 2   tmdbId   9734 non-null   float64\n",
      "dtypes: float64(1), int64(2)\n",
      "memory usage: 228.5 KB\n"
     ]
    }
   ],
   "source": [
    "links.info()"
   ]
  },
  {
   "cell_type": "code",
   "execution_count": null,
   "id": "d35b5cb4",
   "metadata": {},
   "outputs": [],
   "source": []
  },
  {
   "cell_type": "code",
   "execution_count": 11,
   "id": "26557c26",
   "metadata": {},
   "outputs": [
    {
     "name": "stdout",
     "output_type": "stream",
     "text": [
      "<class 'pandas.core.frame.DataFrame'>\n",
      "RangeIndex: 100836 entries, 0 to 100835\n",
      "Data columns (total 4 columns):\n",
      " #   Column     Non-Null Count   Dtype  \n",
      "---  ------     --------------   -----  \n",
      " 0   userId     100836 non-null  int64  \n",
      " 1   movieId    100836 non-null  int64  \n",
      " 2   rating     100836 non-null  float64\n",
      " 3   timestamp  100836 non-null  int64  \n",
      "dtypes: float64(1), int64(3)\n",
      "memory usage: 3.1 MB\n"
     ]
    }
   ],
   "source": [
    "ratings.info()"
   ]
  },
  {
   "cell_type": "code",
   "execution_count": 12,
   "id": "f5849fd6",
   "metadata": {},
   "outputs": [
    {
     "name": "stdout",
     "output_type": "stream",
     "text": [
      "<class 'pandas.core.frame.DataFrame'>\n",
      "RangeIndex: 3683 entries, 0 to 3682\n",
      "Data columns (total 4 columns):\n",
      " #   Column     Non-Null Count  Dtype \n",
      "---  ------     --------------  ----- \n",
      " 0   userId     3683 non-null   int64 \n",
      " 1   movieId    3683 non-null   int64 \n",
      " 2   tag        3683 non-null   object\n",
      " 3   timestamp  3683 non-null   int64 \n",
      "dtypes: int64(3), object(1)\n",
      "memory usage: 115.2+ KB\n"
     ]
    }
   ],
   "source": [
    "tags.info()"
   ]
  },
  {
   "cell_type": "code",
   "execution_count": 13,
   "id": "f4d72ef5",
   "metadata": {},
   "outputs": [
    {
     "name": "stdout",
     "output_type": "stream",
     "text": [
      "The movie with the maximum number of user ratings is: Forrest Gump (1994)\n"
     ]
    }
   ],
   "source": [
    "max_ratings_movie_id = ratings['movieId'].value_counts().idxmax()\n",
    "max_ratings_movie_title = movies.loc[movies['movieId'] == max_ratings_movie_id, 'title'].values[0]\n",
    "\n",
    "print(f\"The movie with the maximum number of user ratings is: {max_ratings_movie_title}\")"
   ]
  },
  {
   "cell_type": "code",
   "execution_count": 14,
   "id": "ea0d770d",
   "metadata": {},
   "outputs": [
    {
     "name": "stdout",
     "output_type": "stream",
     "text": [
      "Tags for 'Matrix, The (1999)':\n",
      "['martial arts', 'sci-fi', 'alternate universe', 'philosophy', 'post apocalyptic']\n"
     ]
    }
   ],
   "source": [
    "matrix_movie_id = movies.loc[movies['title'] == 'Matrix, The (1999)', 'movieId'].values[0]\n",
    "\n",
    "# Select tags for the specified movieId\n",
    "matrix_tags = tags.loc[tags['movieId'] == matrix_movie_id, 'tag']\n",
    "\n",
    "print(f\"Tags for 'Matrix, The (1999)':\\n{matrix_tags.tolist()}\")"
   ]
  },
  {
   "cell_type": "code",
   "execution_count": 15,
   "id": "358ea9bc",
   "metadata": {},
   "outputs": [
    {
     "name": "stdout",
     "output_type": "stream",
     "text": [
      "The average user rating for 'Terminator 2: Judgment Day (1991)' is: 3.97\n"
     ]
    }
   ],
   "source": [
    "terminator2_movie_id = movies.loc[movies['title'] == 'Terminator 2: Judgment Day (1991)', 'movieId'].values[0]\n",
    "\n",
    "# Calculate the average rating for the specified movieId\n",
    "average_rating = ratings.loc[ratings['movieId'] == terminator2_movie_id, 'rating'].mean()\n",
    "\n",
    "print(f\"The average user rating for 'Terminator 2: Judgment Day (1991)' is: {average_rating:.2f}\")"
   ]
  },
  {
   "cell_type": "code",
   "execution_count": 16,
   "id": "025a663d",
   "metadata": {},
   "outputs": [
    {
     "data": {
      "image/png": "[encoded data removed]",
      "text/plain": [
       "<Figure size 576x432 with 1 Axes>"
      ]
     },
     "metadata": {
      "needs_background": "light"
     },
     "output_type": "display_data"
    }
   ],
   "source": [
    "import matplotlib.pyplot as plt\n",
    "\n",
    "# Assuming 'ratings' and 'movies' DataFrames are already loaded\n",
    "\n",
    "# Get the movieId for \"Fight Club (1999)\"\n",
    "fight_club_movie_id = movies.loc[movies['title'] == 'Fight Club (1999)', 'movieId'].values[0]\n",
    "\n",
    "# Filter ratings for the specified movieId\n",
    "fight_club_ratings = ratings.loc[ratings['movieId'] == fight_club_movie_id, 'rating']\n",
    "\n",
    "# Plotting the histogram\n",
    "plt.figure(figsize=(8, 6))\n",
    "plt.hist(fight_club_ratings, bins=5, color='skyblue', edgecolor='black')\n",
    "plt.title('User Ratings Distribution for \"Fight Club (1999)\"')\n",
    "plt.xlabel('Rating')\n",
    "plt.ylabel('Number of Users')\n",
    "plt.grid(axis='y', linestyle='--', alpha=0.7)\n",
    "\n",
    "plt.show()"
   ]
  },
  {
   "cell_type": "code",
   "execution_count": 17,
   "id": "609970fc",
   "metadata": {},
   "outputs": [
    {
     "name": "stdout",
     "output_type": "stream",
     "text": [
      "   movieId                    title  \\\n",
      "0        1         Toy Story (1995)   \n",
      "1        2           Jumanji (1995)   \n",
      "2        3  Grumpier Old Men (1995)   \n",
      "5        6              Heat (1995)   \n",
      "6        7           Sabrina (1995)   \n",
      "\n",
      "                                        genres  rating_count  rating_mean  \n",
      "0  Adventure|Animation|Children|Comedy|Fantasy           215     3.920930  \n",
      "1                   Adventure|Children|Fantasy           110     3.431818  \n",
      "2                               Comedy|Romance            52     3.259615  \n",
      "5                        Action|Crime|Thriller           102     3.946078  \n",
      "6                               Comedy|Romance            54     3.185185  \n"
     ]
    }
   ],
   "source": [
    "import pandas as pd\n",
    "\n",
    "# Assuming 'movies' and 'ratings' DataFrames are already loaded\n",
    "\n",
    "# Step 1: Group user ratings based on movieId and apply aggregation operations\n",
    "grouped_ratings = ratings.groupby('movieId').agg({'rating': ['count', 'mean']}).reset_index()\n",
    "grouped_ratings.columns = ['movieId', 'rating_count', 'rating_mean']\n",
    "\n",
    "# Step 2: Inner join on 'movies' and the grouped ratings DataFrame\n",
    "merged_data = pd.merge(movies, grouped_ratings, on='movieId', how='inner')\n",
    "\n",
    "# Step 3: Filter movies with more than 50 user ratings\n",
    "filtered_movies = merged_data[merged_data['rating_count'] > 50]\n",
    "\n",
    "# Displaying the resulting DataFrame\n",
    "print(filtered_movies.head())\n"
   ]
  },
  {
   "cell_type": "code",
   "execution_count": 18,
   "id": "a919fbbd",
   "metadata": {},
   "outputs": [
    {
     "name": "stdout",
     "output_type": "stream",
     "text": [
      "The most popular movie based on average user ratings is:\n",
      "Shawshank Redemption, The (1994) (ID: 318)\n"
     ]
    }
   ],
   "source": [
    "most_popular_movie = filtered_movies.loc[filtered_movies['rating_mean'].idxmax()]\n",
    "\n",
    "print(f\"The most popular movie based on average user ratings is:\\n{most_popular_movie['title']} (ID: {most_popular_movie['movieId']})\")"
   ]
  },
  {
   "cell_type": "code",
   "execution_count": 19,
   "id": "96c0298c",
   "metadata": {},
   "outputs": [
    {
     "name": "stdout",
     "output_type": "stream",
     "text": [
      "Top 5 popular movies based on number of user ratings:\n",
      "                                 title  rating_count\n",
      "314                Forrest Gump (1994)           329\n",
      "277   Shawshank Redemption, The (1994)           317\n",
      "257                Pulp Fiction (1994)           307\n",
      "510   Silence of the Lambs, The (1991)           279\n",
      "1938                Matrix, The (1999)           278\n"
     ]
    }
   ],
   "source": [
    "# Sort movies based on rating_count in descending order\n",
    "top5_popular_movies = filtered_movies.sort_values(by='rating_count', ascending=False).head(5)\n",
    "\n",
    "# Displaying the top 5 popular movies\n",
    "print(\"Top 5 popular movies based on number of user ratings:\")\n",
    "print(top5_popular_movies[['title', 'rating_count']])\n"
   ]
  },
  {
   "cell_type": "code",
   "execution_count": 20,
   "id": "c74dbf05",
   "metadata": {},
   "outputs": [
    {
     "name": "stdout",
     "output_type": "stream",
     "text": [
      "The third most popular Sci-Fi movie based on number of user ratings is:\n",
      "Jurassic Park (1993) (ID: 480)\n"
     ]
    }
   ],
   "source": [
    "# Assuming 'filtered_movies' DataFrame is already created using the mandatory operations\n",
    "\n",
    "# Filter Sci-Fi movies from the filtered_movies DataFrame\n",
    "sci_fi_movies = filtered_movies[filtered_movies['genres'].str.contains('Sci-Fi')]\n",
    "\n",
    "# Sort Sci-Fi movies based on rating_count in descending order\n",
    "sorted_sci_fi_movies = sci_fi_movies.sort_values(by='rating_count', ascending=False)\n",
    "\n",
    "# Find the title of the third most popular Sci-Fi movie\n",
    "third_most_popular_sci_fi_movie = sorted_sci_fi_movies.iloc[2]\n",
    "\n",
    "print(f\"The third most popular Sci-Fi movie based on number of user ratings is:\\n{third_most_popular_sci_fi_movie['title']} (ID: {third_most_popular_sci_fi_movie['movieId']})\")\n"
   ]
  },
  {
   "cell_type": "code",
   "execution_count": 21,
   "id": "a0c157f1",
   "metadata": {},
   "outputs": [
    {
     "name": "stdout",
     "output_type": "stream",
     "text": [
      "Requirement already satisfied: pandas in c:\\programdata\\anaconda3\\lib\\site-packages (1.4.2)\n",
      "Requirement already satisfied: requests in c:\\programdata\\anaconda3\\lib\\site-packages (2.27.1)\n",
      "Requirement already satisfied: beautifulsoup4 in c:\\programdata\\anaconda3\\lib\\site-packages (4.11.1)\n",
      "Requirement already satisfied: pytz>=2020.1 in c:\\programdata\\anaconda3\\lib\\site-packages (from pandas) (2021.3)\n",
      "Requirement already satisfied: python-dateutil>=2.8.1 in c:\\programdata\\anaconda3\\lib\\site-packages (from pandas) (2.8.2)\n",
      "Requirement already satisfied: numpy>=1.18.5 in c:\\programdata\\anaconda3\\lib\\site-packages (from pandas) (1.21.5)\n",
      "Requirement already satisfied: urllib3<1.27,>=1.21.1 in c:\\programdata\\anaconda3\\lib\\site-packages (from requests) (1.26.9)\n",
      "Requirement already satisfied: certifi>=2017.4.17 in c:\\programdata\\anaconda3\\lib\\site-packages (from requests) (2021.10.8)\n",
      "Requirement already satisfied: charset-normalizer~=2.0.0 in c:\\programdata\\anaconda3\\lib\\site-packages (from requests) (2.0.4)\n",
      "Requirement already satisfied: idna<4,>=2.5 in c:\\programdata\\anaconda3\\lib\\site-packages (from requests) (3.3)\n",
      "Requirement already satisfied: soupsieve>1.2 in c:\\programdata\\anaconda3\\lib\\site-packages (from beautifulsoup4) (2.3.1)\n",
      "Requirement already satisfied: six>=1.5 in c:\\programdata\\anaconda3\\lib\\site-packages (from python-dateutil>=2.8.1->pandas) (1.16.0)\n",
      "Note: you may need to restart the kernel to use updated packages.\n"
     ]
    }
   ],
   "source": [
    "pip install pandas requests beautifulsoup4"
   ]
  },
  {
   "cell_type": "code",
   "execution_count": null,
   "id": "9847ba0f",
   "metadata": {},
   "outputs": [],
   "source": []
  },
  {
   "cell_type": "code",
   "execution_count": null,
   "id": "b324e591",
   "metadata": {},
   "outputs": [],
   "source": []
  },
  {
   "cell_type": "code",
   "execution_count": 22,
   "id": "591370c5",
   "metadata": {},
   "outputs": [],
   "source": [
    "import requests\n",
    "import numpy as np\n",
    "from bs4 import BeautifulSoup\n",
    "\n",
    "def scrapper(imdbId):\n",
    "    id = str(int(imdbId))\n",
    "    n_zeroes = 7 - len(id)\n",
    "    new_id = \"0\" * n_zeroes + id\n",
    "    URL = f\"https://www.imdb.com/title/tt{new_id}/\"\n",
    "    request_header = {'Content-Type': 'text/html; charset=UTF-8', \n",
    "                      'User-Agent': 'Mozilla/5.0 (Windows NT 10.0; Win64; x64; rv:109.0) Gecko/20100101 Firefox/119.0', \n",
    "                      'Accept-Encoding': 'gzip, deflate, br'}\n",
    "    \n",
    "    # Filling in the blanks\n",
    "    response = requests.get(URL, headers=request_header)\n",
    "    soup = BeautifulSoup(response.text, 'html.parser')\n",
    "    \n",
    "    # The following is just an example, you should inspect the IMDb page to find the appropriate tag and attribute\n",
    "    imdb_rating_tag = 'span'\n",
    "    imdb_rating_attrs = {'class': 'FILL_IN_THE_BLANK'}\n",
    "    \n",
    "    # Filling in the blanks\n",
    "    imdb_rating = soup.find(imdb_rating_tag, attrs=imdb_rating_attrs)\n",
    "    \n",
    "    return imdb_rating.text if imdb_rating else np.nan"
   ]
  },
  {
   "cell_type": "code",
   "execution_count": 23,
   "id": "a036dfc4",
   "metadata": {},
   "outputs": [
    {
     "name": "stdout",
     "output_type": "stream",
     "text": [
      "MovieId with the highest average rating: 53\n"
     ]
    }
   ],
   "source": [
    "import pandas as pd\n",
    "\n",
    "# Assuming you have a MovieLens dataset loaded\n",
    "# Replace 'ratings.csv' with the actual path to your ratings dataset\n",
    "ratings = pd.read_csv('ratings.csv')\n",
    "\n",
    "# Calculate the average rating for each movie\n",
    "average_ratings = ratings.groupby('movieId')['rating'].mean()\n",
    "\n",
    "# Find the movieId with the highest average rating\n",
    "highest_rated_movie_id = average_ratings.idxmax()\n",
    "\n",
    "# Print the movieId with the highest average rating\n",
    "print(\"MovieId with the highest average rating:\", highest_rated_movie_id)"
   ]
  },
  {
   "cell_type": "code",
   "execution_count": 29,
   "id": "3d9b6641",
   "metadata": {},
   "outputs": [],
   "source": [
    "import pandas as pd\n",
    "\n",
    "# Read the 'links.csv' file\n",
    "links = pd.read_csv('links.csv')\n",
    "\n",
    "# Assuming you have loaded 'ratings.csv' to get the count of ratings per movie\n",
    "ratings = pd.read_csv('ratings.csv')\n",
    "rating_counts = ratings.groupby('movieId')['rating'].count().reset_index()\n",
    "rating_counts.columns = ['movieId', 'rating_count']\n",
    "\n",
    "# Merge the 'links' DataFrame with the rating counts\n",
    "movies = pd.merge(links, rating_counts, on='movieId')\n",
    "\n",
    "# Filter movies with more than 50 user ratings\n",
    "filtered_movies = movies[movies['rating_count'] > 50]\n",
    "\n",
    "# Build IMDb URLs\n",
    "imdb_urls = [\"https://www.imdb.com/title/tt\" + str(imdb_id) + \"/\" for imdb_id in filtered_movies['imdbId']]"
   ]
  },
  {
   "cell_type": "code",
   "execution_count": null,
   "id": "e7e8fea3",
   "metadata": {},
   "outputs": [],
   "source": [
    "import pandas as pd\n",
    "import requests\n",
    "from bs4 import BeautifulSoup\n",
    "\n",
    "# Assuming you have loaded the 'links.csv' file\n",
    "links = pd.read_csv('links.csv')\n",
    "\n",
    "# Define a function to scrape IMDb ratings\n",
    "def get_imdb_rating(imdb_id):\n",
    "    url = f\"https://www.imdb.com/title/{imdb_id}/\"\n",
    "    response = requests.get(url)\n",
    "    soup = BeautifulSoup(response.text, 'html.parser')\n",
    "    \n",
    "    # Assuming the IMDb rating is within a <span> tag with the class 'ratingValue'\n",
    "    rating_span = soup.find('span', class_='ratingValue')\n",
    "    \n",
    "    if rating_span:\n",
    "        # Extract the IMDb rating\n",
    "        rating = rating_span.find('span', itemprop='ratingValue').text.strip()\n",
    "        return float(rating)\n",
    "    else:\n",
    "        return None\n",
    "\n",
    "# Apply the function to get IMDb ratings for each movie\n",
    "links['imdb_rating'] = links['imdbId'].apply(get_imdb_rating)\n",
    "\n",
    "# Find the movie with the highest IMDb rating\n",
    "highest_rated_movie = links.loc[links['imdb_rating'].idxmax()]\n",
    "\n",
    "# Extract the movieId of the highest-rated movie\n",
    "highest_rated_movie_id = highest_rated_movie['movieId']\n",
    "\n",
    "print(\"MovieId of the movie with the highest IMDb rating:\", highest_rated_movie_id)\n"
   ]
  },
  {
   "cell_type": "code",
   "execution_count": null,
   "id": "3bf2b711",
   "metadata": {},
   "outputs": [],
   "source": []
  }
 ],
 "metadata": {
  "kernelspec": {
   "display_name": "Python 3 (ipykernel)",
   "language": "python",
   "name": "python3"
  },
  "language_info": {
   "codemirror_mode": {
    "name": "ipython",
    "version": 3
   },
   "file_extension": ".py",
   "mimetype": "text/x-python",
   "name": "python",
   "nbconvert_exporter": "python",
   "pygments_lexer": "ipython3",
   "version": "3.9.12"
  }
 },
 "nbformat": 4,
 "nbformat_minor": 5
}
